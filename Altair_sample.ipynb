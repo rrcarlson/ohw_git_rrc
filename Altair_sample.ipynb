{
  "nbformat": 4,
  "nbformat_minor": 0,
  "metadata": {
    "colab": {
      "name": "Altair_sample.ipynb",
      "version": "0.3.2",
      "provenance": [],
      "include_colab_link": true
    },
    "kernelspec": {
      "name": "python3",
      "display_name": "Python 3"
    }
  },
  "cells": [
    {
      "cell_type": "markdown",
      "metadata": {
        "id": "view-in-github",
        "colab_type": "text"
      },
      "source": [
        "[View in Colaboratory](https://colab.research.google.com/github/rrcarlson/ohw_git_rrc/blob/master/Altair_sample.ipynb)"
      ]
    },
    {
      "metadata": {
        "id": "xVbsP-Tml59S",
        "colab_type": "code",
        "colab": {}
      },
      "cell_type": "code",
      "source": [
        "import altair as alt\n",
        "from vega_datasets import data\n",
        "cars = data.cars()"
      ],
      "execution_count": 0,
      "outputs": []
    },
    {
      "metadata": {
        "id": "zKSdhInWmC5y",
        "colab_type": "code",
        "colab": {}
      },
      "cell_type": "code",
      "source": [
        "interval = alt.selection_interval(encodings=['x'])\n",
        "\n",
        "base = alt.Chart(cars).mark_point().encode(\n",
        "    x='Acceleration', \n",
        "    y=\"Miles_per_Gallon\", \n",
        "    color = alt.condition(interval, 'Origin', alt.value('lightgrey'))).add_selection(interval)\n",
        "\n",
        "chart = base.encode(x='Acceleration') | base.encode(x='Horsepower')\n",
        "\n",
        "chart"
      ],
      "execution_count": 0,
      "outputs": []
    }
  ]
}